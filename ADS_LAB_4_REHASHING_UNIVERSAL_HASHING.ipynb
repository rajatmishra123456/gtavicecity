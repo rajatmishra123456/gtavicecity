{
  "nbformat": 4,
  "nbformat_minor": 0,
  "metadata": {
    "colab": {
      "provenance": [],
      "include_colab_link": true
    },
    "kernelspec": {
      "name": "python3",
      "display_name": "Python 3"
    },
    "language_info": {
      "name": "python"
    }
  },
  "cells": [
    {
      "cell_type": "markdown",
      "metadata": {
        "id": "view-in-github",
        "colab_type": "text"
      },
      "source": [
        "<a href=\"https://colab.research.google.com/github/rajatmishra123456/gtavicecity/blob/main/ADS_LAB_4_REHASHING_UNIVERSAL_HASHING.ipynb\" target=\"_parent\"><img src=\"https://colab.research.google.com/assets/colab-badge.svg\" alt=\"Open In Colab\"/></a>"
      ]
    },
    {
      "cell_type": "markdown",
      "source": [
        "##### Rehashing in Hash Tables:\n",
        "##### Rehashing is a technique used in open-addressing hash tables when the load factor exceeds a threshold (typically 0.7 or 0.75).\n",
        "##### The process involves: Doubling or increasing the table size (preferably to the next prime number).\n",
        "##### Recomputing hash indices for existing elements.Reinserting elements into the new table.\n",
        "##### This ensures efficient lookup and reduces collisions.\n",
        "#### How Rehashing works\n",
        "#### Initially, the table size is 5. When inserting keys 10, 20, 30, 25, collisions occur.\n",
        "#### After inserting 25, the load factor exceeds 0.7, triggering rehashing: The table size is increased to the next prime number (11). All existing elements are reinserted in the new table. The new table has better distribution and fewer collisions.\n"
      ],
      "metadata": {
        "id": "smCfSPOi8SCv"
      }
    },
    {
      "cell_type": "code",
      "execution_count": null,
      "metadata": {
        "colab": {
          "base_uri": "https://localhost:8080/"
        },
        "id": "E3umg33b7-Nk",
        "outputId": "ea9badd0-db7a-48b4-dbfb-c0335d032e0d"
      },
      "outputs": [
        {
          "output_type": "stream",
          "name": "stdout",
          "text": [
            "\n",
            "--- Rehashing Demonstration ---\n",
            "Inserted (10, Apple) at index 0\n",
            "Collision at index 0 for key 20, trying next slot...\n",
            "Inserted (20, Banana) at index 1\n",
            "Collision at index 0 for key 30, trying next slot...\n",
            "Collision at index 1 for key 30, trying next slot...\n",
            "Inserted (30, Cherry) at index 2\n",
            "Collision at index 0 for key 25, trying next slot...\n",
            "Collision at index 1 for key 25, trying next slot...\n",
            "Collision at index 2 for key 25, trying next slot...\n",
            "Inserted (25, Date) at index 3\n",
            "\n",
            "Load factor exceeded! Rehashing table...\n",
            "Inserted (10, Apple) at index 10\n",
            "Inserted (20, Banana) at index 9\n",
            "Inserted (30, Cherry) at index 8\n",
            "Inserted (25, Date) at index 3\n",
            "Inserted (15, Elderberry) at index 4\n",
            "\n",
            "Rehashing Hash Table:\n",
            "Index 0: None\n",
            "Index 1: None\n",
            "Index 2: None\n",
            "Index 3: (25, 'Date')\n",
            "Index 4: (15, 'Elderberry')\n",
            "Index 5: None\n",
            "Index 6: None\n",
            "Index 7: None\n",
            "Index 8: (30, 'Cherry')\n",
            "Index 9: (20, 'Banana')\n",
            "Index 10: (10, 'Apple')\n"
          ]
        }
      ],
      "source": [
        "class RehashingHashTable:\n",
        "    def __init__(self, size):\n",
        "        self.size = size\n",
        "        self.count = 0  # Track the number of elements\n",
        "        self.table = [None] * size\n",
        "        self.load_factor_threshold = 0.7  # Rehash when load factor exceeds 0.7\n",
        "\n",
        "    def hash_function(self, key):\n",
        "        \"\"\"Primary hash function\"\"\"\n",
        "        return key % self.size\n",
        "\n",
        "    def insert(self, key, value):\n",
        "        \"\"\"Insert key-value pair, with rehashing when necessary\"\"\"\n",
        "        if self.count / self.size > self.load_factor_threshold:\n",
        "            print(\"\\nLoad factor exceeded! Rehashing table...\")\n",
        "            self.rehash()\n",
        "\n",
        "        index = self.hash_function(key)\n",
        "        original_index = index\n",
        "        i = 0\n",
        "\n",
        "        # Linear Probing for Collision Resolution\n",
        "        while self.table[index] is not None:\n",
        "            print(f\"Collision at index {index} for key {key}, trying next slot...\")\n",
        "            i += 1\n",
        "            index = (original_index + i) % self.size  # Linear probing\n",
        "\n",
        "        self.table[index] = (key, value)\n",
        "        self.count += 1\n",
        "        print(f\"Inserted ({key}, {value}) at index {index}\")\n",
        "\n",
        "    def rehash(self):\n",
        "        \"\"\"Rehash by doubling the table size and reinserting elements\"\"\"\n",
        "        new_size = self.get_next_prime(self.size * 2)  # Get next prime number\n",
        "        old_table = self.table\n",
        "        self.size = new_size\n",
        "        self.table = [None] * new_size\n",
        "        self.count = 0  # Reset count\n",
        "\n",
        "        # Reinsert elements into new table\n",
        "        for item in old_table:\n",
        "            if item is not None:\n",
        "                self.insert(item[0], item[1])\n",
        "\n",
        "    def get_next_prime(self, num):\n",
        "        \"\"\"Find the next prime number greater than the given number\"\"\"\n",
        "        while True:\n",
        "            if self.is_prime(num):\n",
        "                return num\n",
        "            num += 1\n",
        "\n",
        "    def is_prime(self, num):\n",
        "        \"\"\"Check if a number is prime\"\"\"\n",
        "        if num < 2:\n",
        "            return False\n",
        "        for i in range(2, int(num ** 0.5) + 1):\n",
        "            if num % i == 0:\n",
        "                return False\n",
        "        return True\n",
        "\n",
        "    def display(self):\n",
        "        \"\"\"Display the hash table\"\"\"\n",
        "        print(\"\\nRehashing Hash Table:\")\n",
        "        for i, entry in enumerate(self.table):\n",
        "            print(f\"Index {i}: {entry}\")\n",
        "\n",
        "\n",
        "# Demonstration of Rehashing\n",
        "rehashing_hash_table = RehashingHashTable(5)  # Initial size 5\n",
        "\n",
        "print(\"\\n--- Rehashing Demonstration ---\")\n",
        "rehashing_hash_table.insert(10, \"Apple\")  # 10 % 5 = 0\n",
        "rehashing_hash_table.insert(20, \"Banana\") # 20 % 5 = 0 (Collision)\n",
        "rehashing_hash_table.insert(30, \"Cherry\") # 30 % 5 = 0 (Collision)\n",
        "rehashing_hash_table.insert(25, \"Date\")   # 25 % 5 = 0 (Collision, triggers rehashing)\n",
        "rehashing_hash_table.insert(15, \"Elderberry\") # New table size used\n",
        "\n",
        "rehashing_hash_table.display()\n"
      ]
    },
    {
      "cell_type": "code",
      "source": [
        "# Universal Hashing\n",
        "import random\n",
        "\n",
        "class UniversalHashing:\n",
        "    def __init__(self, size, prime=101):  # Prime should be greater than table size\n",
        "        self.size = size\n",
        "        self.prime = prime\n",
        "        self.a = random.randint(1, prime - 1)  # Random 'a' in range [1, p-1]\n",
        "        self.b = random.randint(0, prime - 1)  # Random 'b' in range [0, p-1]\n",
        "        self.table = [None] * size\n",
        "\n",
        "    def hash_function(self, key):\n",
        "        \"\"\"Universal Hash Function\"\"\"\n",
        "        return ((self.a * key + self.b) % self.prime) % self.size\n",
        "\n",
        "    def insert(self, key, value):\n",
        "        \"\"\"Insert key-value pair into the hash table\"\"\"\n",
        "        index = self.hash_function(key)\n",
        "        while self.table[index] is not None:  # Handling collision (Linear Probing)\n",
        "            index = (index + 1) % self.size\n",
        "        self.table[index] = (key, value)\n",
        "        print(f\"Inserted ({key}, {value}) at index {index}\")\n",
        "\n",
        "    def display(self):\n",
        "        \"\"\"Display the hash table\"\"\"\n",
        "        print(\"\\nUniversal Hashing Table:\")\n",
        "        for i, entry in enumerate(self.table):\n",
        "            print(f\"Index {i}: {entry}\")\n",
        "\n",
        "# Demonstration\n",
        "universal_hash_table = UniversalHashing(size=10)  # Hash table size 10\n",
        "\n",
        "print(\"\\n--- Universal Hashing Demonstration ---\")\n",
        "universal_hash_table.insert(10, \"Apple\")\n",
        "universal_hash_table.insert(20, \"Banana\")\n",
        "universal_hash_table.insert(30, \"Cherry\")\n",
        "universal_hash_table.insert(17, \"Date\")\n",
        "universal_hash_table.insert(25, \"Elderberry\")\n",
        "universal_hash_table.display()"
      ],
      "metadata": {
        "colab": {
          "base_uri": "https://localhost:8080/"
        },
        "id": "yHlXVueF9EeE",
        "outputId": "d8ac634e-9caf-45c8-8b5c-45ce60c4bacc"
      },
      "execution_count": null,
      "outputs": [
        {
          "output_type": "stream",
          "name": "stdout",
          "text": [
            "\n",
            "--- Universal Hashing Demonstration ---\n",
            "Inserted (10, Apple) at index 5\n",
            "Inserted (20, Banana) at index 1\n",
            "Inserted (30, Cherry) at index 7\n",
            "Inserted (17, Date) at index 2\n",
            "Inserted (25, Elderberry) at index 9\n",
            "\n",
            "Universal Hashing Table:\n",
            "Index 0: None\n",
            "Index 1: (20, 'Banana')\n",
            "Index 2: (17, 'Date')\n",
            "Index 3: None\n",
            "Index 4: None\n",
            "Index 5: (10, 'Apple')\n",
            "Index 6: None\n",
            "Index 7: (30, 'Cherry')\n",
            "Index 8: None\n",
            "Index 9: (25, 'Elderberry')\n"
          ]
        }
      ]
    }
  ]
}