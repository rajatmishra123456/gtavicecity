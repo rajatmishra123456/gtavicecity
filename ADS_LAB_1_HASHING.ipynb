{
  "nbformat": 4,
  "nbformat_minor": 0,
  "metadata": {
    "colab": {
      "provenance": [],
      "include_colab_link": true
    },
    "kernelspec": {
      "name": "python3",
      "display_name": "Python 3"
    },
    "language_info": {
      "name": "python"
    }
  },
  "cells": [
    {
      "cell_type": "markdown",
      "metadata": {
        "id": "view-in-github",
        "colab_type": "text"
      },
      "source": [
        "<a href=\"https://colab.research.google.com/github/rajatmishra123456/gtavicecity/blob/main/ADS_LAB_1_HASHING.ipynb\" target=\"_parent\"><img src=\"https://colab.research.google.com/assets/colab-badge.svg\" alt=\"Open In Colab\"/></a>"
      ]
    },
    {
      "cell_type": "markdown",
      "source": [
        "# Python hash() method\n",
        "(1) Python hash() function is a built-in function and returns the hash value of an object if it exists.\n",
        "(2) The hash value is an integer that is used to compare dictionary keys while looking at a dictionary.\n",
        "# Python hash() function Syntax\n",
        "Syntax : hash(obj)\n",
        "Parameters :  obj : The object which we need to convert into hash.\n",
        "Returns : Returns the hashed value if possible.\n",
        "# Properties of hash() function\n",
        "(1) Objects hashed using hash() are irreversible, leading to loss of information.\n",
        "(2) hash() returns hashed value only for immutable objects, hence can be used as an indicator to check for mutable/immutable objects.\n",
        "(3) hash() function is used to encode data for security in Python.\n"
      ],
      "metadata": {
        "id": "5gp4uwnAoaif"
      }
    },
    {
      "cell_type": "code",
      "source": [
        "import hashlib\n",
        "from collections import defaultdict\n",
        "import random\n",
        "import string"
      ],
      "metadata": {
        "id": "Bn5o3nevm_4A"
      },
      "execution_count": null,
      "outputs": []
    },
    {
      "cell_type": "code",
      "source": [
        "# Hashing an integer\n",
        "print(hash(50))  # Output: hash value of 50\n",
        "\n",
        "# Hashing a float\n",
        "print(hash(8.52))  # Output: hash value of 8.52\n",
        "\n",
        "# Hashing a character\n",
        "print(hash(\"c\"))  # Output: hash value of \"College\"\n",
        "\n",
        "# Hashing a string\n",
        "print(hash(\"Birla\"))  # Output: hash value of \"College\"\n",
        "\n",
        "# Hashing a tuple\n",
        "print(hash((10, 20, 30)))  # Output: hash value of the tuple (10, 20, 30)\n",
        "\n",
        "# Trying to hash a list\n",
        "try:\n",
        "    print(hash([1, 2, 3]))\n",
        "except TypeError as e:\n",
        "    print(e)  # Output: unhashable type: 'list'"
      ],
      "metadata": {
        "colab": {
          "base_uri": "https://localhost:8080/"
        },
        "id": "CfseaUBdJDsA",
        "outputId": "c26e804e-e8f1-483f-ccb4-434c89d5f440"
      },
      "execution_count": null,
      "outputs": [
        {
          "output_type": "stream",
          "name": "stdout",
          "text": [
            "50\n",
            "1199038364791119880\n",
            "-4541095926957846465\n",
            "-5698918243062850573\n",
            "3952409569436607343\n",
            "unhashable type: 'list'\n"
          ]
        }
      ]
    },
    {
      "cell_type": "code",
      "source": [
        "# Demonstrating working of hash() by initializing objects\n",
        "int_val = 4\n",
        "str_val = 'Birla College'\n",
        "flt_val = 24.56\n",
        "# Printing the hash values.\n",
        "# Observe that Integer value does not change but others they change\n",
        "print(\"The integer hash value is : \" + str(hash(int_val)))\n",
        "print(\"The string hash value is : \" + str(hash(str_val)))\n",
        "print(\"The float hash value is : \" + str(hash(flt_val)))"
      ],
      "metadata": {
        "colab": {
          "base_uri": "https://localhost:8080/"
        },
        "id": "GeOPr6wOnVki",
        "outputId": "73acfe1a-ff8b-4b4c-ba19-d501bcadc8c0"
      },
      "execution_count": null,
      "outputs": [
        {
          "output_type": "stream",
          "name": "stdout",
          "text": [
            "The integer hash value is : 4\n",
            "The string hash value is : -7693051208019838700\n",
            "The float hash value is : 1291272085159665688\n"
          ]
        }
      ]
    },
    {
      "cell_type": "code",
      "source": [
        "# To check the hash index assigned to the set of values{11,12,13,14,15}\n",
        "num=[11,12,13,14,15,16]\n",
        "print('The keys assigned are:')\n",
        "for i in num:\n",
        "    print(hash(i),i%10)\n",
        "    #k=i%10\n",
        "    #print(k)"
      ],
      "metadata": {
        "colab": {
          "base_uri": "https://localhost:8080/"
        },
        "id": "gD8UZhLmSIcn",
        "outputId": "ddf983de-3f7d-48cd-ff43-b0f135cc6f9d"
      },
      "execution_count": null,
      "outputs": [
        {
          "output_type": "stream",
          "name": "stdout",
          "text": [
            "The keys assigned are:\n",
            "11 1\n",
            "12 2\n",
            "13 3\n",
            "14 4\n",
            "15 5\n",
            "16 6\n"
          ]
        }
      ]
    },
    {
      "cell_type": "markdown",
      "source": [
        "### Hashing the string data"
      ],
      "metadata": {
        "id": "-9bTTNEkAZFK"
      }
    },
    {
      "cell_type": "code",
      "source": [
        "str='hello world'\n",
        "print(str)"
      ],
      "metadata": {
        "colab": {
          "base_uri": "https://localhost:8080/"
        },
        "id": "5Sscie_gAAFn",
        "outputId": "fd492558-c1cf-487f-cdb2-cb9dae714af2"
      },
      "execution_count": null,
      "outputs": [
        {
          "output_type": "stream",
          "name": "stdout",
          "text": [
            "hello world\n"
          ]
        }
      ]
    },
    {
      "cell_type": "markdown",
      "source": [
        "### We know that Hashing is the concept of converting data of arbitrary size into data of fixed size.\n",
        "### We are going to use this to turn strings (or possibly other data types) into integers.\n",
        "### To hash the expression hello world, that is, to get a numeric value that represents the string, we use the ord() function to get the ordinal value of any character.\n",
        "### For example, the ord('f') function gives 102."
      ],
      "metadata": {
        "id": "7rpGHIXxAu2r"
      }
    },
    {
      "cell_type": "code",
      "source": [
        "# To find the individual ordinal numbers for the characters of str :{h, e, l, o, w, r, d}\n",
        "for c in str:\n",
        "    print('ordinal no for',c, 'is', ord(c))"
      ],
      "metadata": {
        "colab": {
          "base_uri": "https://localhost:8080/"
        },
        "id": "cL-p_bWh_gt4",
        "outputId": "c62bec34-5180-49c5-b33e-83cca2817736"
      },
      "execution_count": null,
      "outputs": [
        {
          "output_type": "stream",
          "name": "stdout",
          "text": [
            "ordinal no for h is 104\n",
            "ordinal no for e is 101\n",
            "ordinal no for l is 108\n",
            "ordinal no for l is 108\n",
            "ordinal no for o is 111\n",
            "ordinal no for   is 32\n",
            "ordinal no for w is 119\n",
            "ordinal no for o is 111\n",
            "ordinal no for r is 114\n",
            "ordinal no for l is 108\n",
            "ordinal no for d is 100\n"
          ]
        }
      ]
    },
    {
      "cell_type": "markdown",
      "source": [
        "### To get the hash of the whole string, we could just sum the ordinal numbers of each character in the string\n",
        "![image.png](data:image/png;base64,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)"
      ],
      "metadata": {
        "id": "J3qb9sHg-dJX"
      }
    },
    {
      "cell_type": "code",
      "source": [
        "print('hash value of',str, 'is', sum(map(ord, 'hello world')))"
      ],
      "metadata": {
        "colab": {
          "base_uri": "https://localhost:8080/"
        },
        "id": "NzQGnEtc--qn",
        "outputId": "1ce65368-2df6-4528-dbbe-fc0f78677cb2"
      },
      "execution_count": null,
      "outputs": [
        {
          "output_type": "stream",
          "name": "stdout",
          "text": [
            "hash value of hello world is 1116\n"
          ]
        }
      ]
    },
    {
      "cell_type": "code",
      "source": [
        "# Finding the hash keys for strings {'ab', 'cd', 'efg'}\n",
        "str1=['ab','cd','efg']\n",
        "for s in str1:\n",
        "  print('hash value of',s,'is',hash(s))"
      ],
      "metadata": {
        "colab": {
          "base_uri": "https://localhost:8080/"
        },
        "id": "dIPGF2E1VIlo",
        "outputId": "22064e2e-8d2b-454f-ecd7-39a7fe8aaf1f"
      },
      "execution_count": null,
      "outputs": [
        {
          "output_type": "stream",
          "name": "stdout",
          "text": [
            "hash value of ab is -6510413217081185377\n",
            "hash value of cd is 2651132137587220669\n",
            "hash value of efg is -656395623117781218\n"
          ]
        }
      ]
    },
    {
      "cell_type": "markdown",
      "source": [
        "## Mutable objects like lists, dictionaries, and sets cannot be hashed with the hash() function. Attempting to do so will result in a TypeError. This is because the hash value of an object must remain constant during its lifetime, and mutable objects can change, leading to inconsistent hash values."
      ],
      "metadata": {
        "id": "hIMM4D2_KK_t"
      }
    },
    {
      "cell_type": "code",
      "source": [
        "# To get the hash value for tuples\n",
        "import builtins\n",
        "# initializing objects\n",
        "# (1) tuples: tuple are immutable\n",
        "tuple_val = (1, 2, 3, 4, 5)\n",
        "# Printing the hash values.\n",
        "print(\"The tuple hash value is : \" + builtins.str(hash(tuple_val)))"
      ],
      "metadata": {
        "colab": {
          "base_uri": "https://localhost:8080/"
        },
        "id": "8m9jBGrmZ6CQ",
        "outputId": "45b54ced-e100-4799-92ae-7a94faa59d69"
      },
      "execution_count": null,
      "outputs": [
        {
          "output_type": "stream",
          "name": "stdout",
          "text": [
            "The tuple hash value is : -5659871693760987716\n"
          ]
        }
      ]
    },
    {
      "cell_type": "code",
      "source": [
        "# (2) lists: list are mutable\n",
        "list_val = [1, 2, 3, 4, 5]\n",
        "# Notice exception when trying\n",
        "# print(\"The list hash value is :\" +str(hash(list_val)))\n",
        "# to convert mutable object\n",
        "print(\"Lists are unhashable, their contents can be converted to tuple representation\")\n",
        "# Alternatively, you can hash a tuple version of the list:\n",
        "print(tuple(list_val))\n",
        "print(\"The hash value of a tuple version of the list is : \" + builtins.str(hash(tuple(list_val))))\n",
        "#print(\"The list hash value is : \" +str(hash(list_val)))"
      ],
      "metadata": {
        "colab": {
          "base_uri": "https://localhost:8080/"
        },
        "id": "TfiDV0MaGrtK",
        "outputId": "7ba35b80-f5d8-4c7a-d485-c0ec687c74d3"
      },
      "execution_count": null,
      "outputs": [
        {
          "output_type": "stream",
          "name": "stdout",
          "text": [
            "Lists are unhashable, their contents can be converted to tuple representation\n",
            "(1, 2, 3, 4, 5)\n",
            "The hash value of a tuple version of the list is : -5659871693760987716\n"
          ]
        }
      ]
    },
    {
      "cell_type": "code",
      "source": [
        "# hash() for immutable tuple of string object\n",
        "tup_var = ('G','E','E','K')\n",
        "print(hash(tup_var))"
      ],
      "metadata": {
        "id": "6L1yRX3KH5sv",
        "colab": {
          "base_uri": "https://localhost:8080/"
        },
        "outputId": "e34178e2-db2f-4f66-cf9a-c2cbfdf23616"
      },
      "execution_count": null,
      "outputs": [
        {
          "output_type": "stream",
          "name": "stdout",
          "text": [
            "5243396040964161747\n"
          ]
        }
      ]
    }
  ]
}